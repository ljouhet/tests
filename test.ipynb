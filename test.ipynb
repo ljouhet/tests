{
 "cells": [
  {
   "cell_type": "markdown",
   "metadata": {},
   "source": [
    "# Pivot de Gauss\n",
    "\n",
    "* Vie de Gauss\n",
    "* Raccourcis clavier de Jupyter...\n",
    "* License ?\n",
    "\n",
    "TODO : rajouter le pivot partiel, et les variantes"
   ]
  },
  {
   "cell_type": "code",
   "execution_count": 1,
   "metadata": {
    "collapsed": true
   },
   "outputs": [],
   "source": [
    "import sympy"
   ]
  },
  {
   "cell_type": "markdown",
   "metadata": {},
   "source": [
    "On travaille avec `sympy` : quelques modifications pour que ça fonctionne"
   ]
  },
  {
   "cell_type": "code",
   "execution_count": 2,
   "metadata": {
    "collapsed": true
   },
   "outputs": [],
   "source": [
    "def dimensions(M):\n",
    "    return M.shape # (nb_lignes, nb_colonnes) avec sympy\n",
    "\n",
    "def transvection(A, i, j, mu):\n",
    "    \"\"\" Li <- Li + mu * Lj \"\"\"\n",
    "    _, colonnes = dimensions(A)\n",
    "    for k in range(colonnes):\n",
    "        A[i, k] = A[i, k] + mu *  A[j, k]\n",
    "\n",
    "def dilatation(A, i, coeff):\n",
    "    \"\"\" Li <- coeff * Li \"\"\"\n",
    "    _, colonnes = dimensions(A)\n",
    "    for k in range(colonnes):\n",
    "        A[i, k] = coeff * A[i, k]"
   ]
  },
  {
   "cell_type": "markdown",
   "metadata": {},
   "source": [
    "Maintenant, le pivot de Gauss"
   ]
  },
  {
   "cell_type": "code",
   "execution_count": 3,
   "metadata": {
    "collapsed": true
   },
   "outputs": [],
   "source": [
    "def gauss(A, B):\n",
    "    \"\"\" Pivot de Gauss : on se ramène à la matrice identité\n",
    "        A.X=B <=> ... <=> I.X=solution \"\"\"\n",
    "    lignes, colonnes = dimensions(A)\n",
    "    for j in range(colonnes):\n",
    "        for i in range(lignes):\n",
    "            if i != j:\n",
    "                mu = -A[i, j]/A[j, j]\n",
    "                transvection(A, i, j, mu)\n",
    "                transvection(B, i, j, mu)\n",
    "    for i in range(lignes):\n",
    "        coeff = 1/A[i, i]\n",
    "        dilatation(A, i, coeff)\n",
    "        dilatation(B, i, coeff)\n",
    "    return B              "
   ]
  },
  {
   "cell_type": "markdown",
   "metadata": {},
   "source": [
    "et la version avec affichage :"
   ]
  },
  {
   "cell_type": "code",
   "execution_count": 4,
   "metadata": {
    "collapsed": true
   },
   "outputs": [],
   "source": [
    "def affichage(s, A, B):\n",
    "    print(s)\n",
    "    sympy.pprint((A, B))\n",
    "    print()\n",
    "\n",
    "def gauss_affichage(A, B):\n",
    "    \"\"\" Pivot de Gauss : on se ramène à la matrice identité\n",
    "        A.X=B <=> ... <=> I.X=solution \"\"\"\n",
    "    lignes, colonnes = dimensions(A)\n",
    "    affichage(\"Au départ\", A, B)\n",
    "    for j in range(colonnes):\n",
    "        for i in range(lignes):\n",
    "            if i != j and A[i, j] != 0:\n",
    "                mu = -A[i, j]/A[j, j]     # Ajj : pivot\n",
    "                transvection(A, i, j, mu)\n",
    "                transvection(B, i, j, mu)\n",
    "                affichage(\"Transvection : L{0} <- L{0} + {2} L{1}\".format(i+1, j+1, mu), A, B)\n",
    "    for i in range(lignes):\n",
    "        coeff = 1/A[i, i]\n",
    "        dilatation(A, i, coeff)\n",
    "        dilatation(B, i, coeff)\n",
    "        affichage(\"Dilatation : L{0} <- {1} L{0}\".format(i+1, coeff), A, B)\n",
    "    affichage(\"Résultat\", A, B)\n",
    "    return B"
   ]
  },
  {
   "cell_type": "code",
   "execution_count": 5,
   "metadata": {
    "collapsed": false
   },
   "outputs": [
    {
     "name": "stdout",
     "output_type": "stream",
     "text": [
      "⎡5/7 ⎤\n",
      "⎢    ⎥\n",
      "⎢-4/7⎥\n",
      "⎢    ⎥\n",
      "⎣2/7 ⎦\n"
     ]
    }
   ],
   "source": [
    "A = sympy.Matrix([[3, 3, 2], [4, 1, -1], [5, 0, -2]])\n",
    "B = sympy.Matrix([[1], [2], [3]])\n",
    "sympy.pprint(gauss(A, B))"
   ]
  },
  {
   "cell_type": "code",
   "execution_count": 6,
   "metadata": {
    "collapsed": false
   },
   "outputs": [
    {
     "name": "stdout",
     "output_type": "stream",
     "text": [
      "Au départ\n",
      "⎛⎡3  3  2 ⎤, ⎡1⎤⎞\n",
      "⎜⎢        ⎥  ⎢ ⎥⎟\n",
      "⎜⎢4  1  -1⎥  ⎢2⎥⎟\n",
      "⎜⎢        ⎥  ⎢ ⎥⎟\n",
      "⎝⎣5  0  -2⎦  ⎣3⎦⎠\n",
      "\n",
      "Transvection : L2 <- L2 + -4/3 L1\n",
      "⎛⎡3  3     2  ⎤, ⎡ 1 ⎤⎞\n",
      "⎜⎢            ⎥  ⎢   ⎥⎟\n",
      "⎜⎢0  -3  -11/3⎥  ⎢2/3⎥⎟\n",
      "⎜⎢            ⎥  ⎢   ⎥⎟\n",
      "⎝⎣5  0    -2  ⎦  ⎣ 3 ⎦⎠\n",
      "\n",
      "Transvection : L3 <- L3 + -5/3 L1\n",
      "⎛⎡3  3     2  ⎤, ⎡ 1 ⎤⎞\n",
      "⎜⎢            ⎥  ⎢   ⎥⎟\n",
      "⎜⎢0  -3  -11/3⎥  ⎢2/3⎥⎟\n",
      "⎜⎢            ⎥  ⎢   ⎥⎟\n",
      "⎝⎣0  -5  -16/3⎦  ⎣4/3⎦⎠\n",
      "\n",
      "Transvection : L1 <- L1 + 1 L2\n",
      "⎛⎡3  0   -5/3 ⎤, ⎡5/3⎤⎞\n",
      "⎜⎢            ⎥  ⎢   ⎥⎟\n",
      "⎜⎢0  -3  -11/3⎥  ⎢2/3⎥⎟\n",
      "⎜⎢            ⎥  ⎢   ⎥⎟\n",
      "⎝⎣0  -5  -16/3⎦  ⎣4/3⎦⎠\n",
      "\n",
      "Transvection : L3 <- L3 + -5/3 L2\n",
      "⎛⎡3  0   -5/3 ⎤, ⎡5/3⎤⎞\n",
      "⎜⎢            ⎥  ⎢   ⎥⎟\n",
      "⎜⎢0  -3  -11/3⎥  ⎢2/3⎥⎟\n",
      "⎜⎢            ⎥  ⎢   ⎥⎟\n",
      "⎝⎣0  0    7/9 ⎦  ⎣2/9⎦⎠\n",
      "\n",
      "Transvection : L1 <- L1 + 15/7 L3\n",
      "⎛⎡3  0     0  ⎤, ⎡15/7⎤⎞\n",
      "⎜⎢            ⎥  ⎢    ⎥⎟\n",
      "⎜⎢0  -3  -11/3⎥  ⎢2/3 ⎥⎟\n",
      "⎜⎢            ⎥  ⎢    ⎥⎟\n",
      "⎝⎣0  0    7/9 ⎦  ⎣2/9 ⎦⎠\n",
      "\n",
      "Transvection : L2 <- L2 + 33/7 L3\n",
      "⎛⎡3  0    0 ⎤, ⎡15/7⎤⎞\n",
      "⎜⎢          ⎥  ⎢    ⎥⎟\n",
      "⎜⎢0  -3   0 ⎥  ⎢12/7⎥⎟\n",
      "⎜⎢          ⎥  ⎢    ⎥⎟\n",
      "⎝⎣0  0   7/9⎦  ⎣2/9 ⎦⎠\n",
      "\n",
      "Dilatation : L1 <- 1/3 L1\n",
      "⎛⎡1  0    0 ⎤, ⎡5/7 ⎤⎞\n",
      "⎜⎢          ⎥  ⎢    ⎥⎟\n",
      "⎜⎢0  -3   0 ⎥  ⎢12/7⎥⎟\n",
      "⎜⎢          ⎥  ⎢    ⎥⎟\n",
      "⎝⎣0  0   7/9⎦  ⎣2/9 ⎦⎠\n",
      "\n",
      "Dilatation : L2 <- -1/3 L2\n",
      "⎛⎡1  0   0 ⎤, ⎡5/7 ⎤⎞\n",
      "⎜⎢         ⎥  ⎢    ⎥⎟\n",
      "⎜⎢0  1   0 ⎥  ⎢-4/7⎥⎟\n",
      "⎜⎢         ⎥  ⎢    ⎥⎟\n",
      "⎝⎣0  0  7/9⎦  ⎣2/9 ⎦⎠\n",
      "\n",
      "Dilatation : L3 <- 9/7 L3\n",
      "⎛⎡1  0  0⎤, ⎡5/7 ⎤⎞\n",
      "⎜⎢       ⎥  ⎢    ⎥⎟\n",
      "⎜⎢0  1  0⎥  ⎢-4/7⎥⎟\n",
      "⎜⎢       ⎥  ⎢    ⎥⎟\n",
      "⎝⎣0  0  1⎦  ⎣2/7 ⎦⎠\n",
      "\n",
      "Résultat\n",
      "⎛⎡1  0  0⎤, ⎡5/7 ⎤⎞\n",
      "⎜⎢       ⎥  ⎢    ⎥⎟\n",
      "⎜⎢0  1  0⎥  ⎢-4/7⎥⎟\n",
      "⎜⎢       ⎥  ⎢    ⎥⎟\n",
      "⎝⎣0  0  1⎦  ⎣2/7 ⎦⎠\n",
      "\n"
     ]
    },
    {
     "data": {
      "text/plain": [
       "Matrix([\n",
       "[ 5/7],\n",
       "[-4/7],\n",
       "[ 2/7]])"
      ]
     },
     "execution_count": 6,
     "metadata": {},
     "output_type": "execute_result"
    }
   ],
   "source": [
    "A = sympy.Matrix([[3, 3, 2], [4, 1, -1], [5, 0, -2]])\n",
    "B = sympy.Matrix([[1], [2], [3]])\n",
    "gauss_affichage(A, B)"
   ]
  },
  {
   "cell_type": "code",
   "execution_count": null,
   "metadata": {
    "collapsed": true
   },
   "outputs": [],
   "source": []
  }
 ],
 "metadata": {
  "kernelspec": {
   "display_name": "Python 3",
   "language": "python",
   "name": "python3"
  },
  "language_info": {
   "codemirror_mode": {
    "name": "ipython",
    "version": 3
   },
   "file_extension": ".py",
   "mimetype": "text/x-python",
   "name": "python",
   "nbconvert_exporter": "python",
   "pygments_lexer": "ipython3",
   "version": "3.5.2"
  }
 },
 "nbformat": 4,
 "nbformat_minor": 0
}
