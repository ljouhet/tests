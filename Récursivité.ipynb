{
 "cells": [
  {
   "cell_type": "code",
   "execution_count": 1,
   "id": "00babe01",
   "metadata": {},
   "outputs": [],
   "source": [
    "def trianglesB(n):\n",
    "    if n > 0:\n",
    "        trianglesB(n-1)\n",
    "        print(n * \"*\")"
   ]
  },
  {
   "cell_type": "code",
   "execution_count": 4,
   "id": "6c916ff5",
   "metadata": {},
   "outputs": [
    {
     "name": "stdout",
     "output_type": "stream",
     "text": [
      "*\n",
      "**\n",
      "***\n"
     ]
    }
   ],
   "source": [
    "trianglesB(3)"
   ]
  },
  {
   "cell_type": "code",
   "execution_count": 11,
   "id": "6dfe231d",
   "metadata": {},
   "outputs": [],
   "source": [
    "def factorielle(n: int) -> int:\n",
    "    print(f\"factorielle: n = {n}\")\n",
    "    if n == 0:\n",
    "        print(\"factorielle(0) = 1\")\n",
    "        return 1\n",
    "    else:\n",
    "        resultat = n * factorielle(n-1)\n",
    "        print(f\"factorielle({n}) = {resultat}\")\n",
    "        return resultat"
   ]
  },
  {
   "cell_type": "code",
   "execution_count": 12,
   "id": "3f039128",
   "metadata": {},
   "outputs": [
    {
     "name": "stdout",
     "output_type": "stream",
     "text": [
      "factorielle: n = 5\n",
      "factorielle: n = 4\n",
      "factorielle: n = 3\n",
      "factorielle: n = 2\n",
      "factorielle: n = 1\n",
      "factorielle: n = 0\n",
      "factorielle(0) = 1\n",
      "factorielle(1) = 1\n",
      "factorielle(2) = 2\n",
      "factorielle(3) = 6\n",
      "factorielle(4) = 24\n",
      "factorielle(5) = 120\n"
     ]
    },
    {
     "data": {
      "text/plain": [
       "120"
      ]
     },
     "execution_count": 12,
     "metadata": {},
     "output_type": "execute_result"
    }
   ],
   "source": [
    "factorielle(5)"
   ]
  },
  {
   "cell_type": "code",
   "execution_count": 13,
   "id": "89280b05",
   "metadata": {},
   "outputs": [],
   "source": [
    "def fibonacci_bof(n : int) -> int:\n",
    "    if n <= 1:\n",
    "        return n\n",
    "    else:\n",
    "        return fibonacci_bof(n-1) + fibonacci_bof(n-2)"
   ]
  },
  {
   "cell_type": "code",
   "execution_count": 14,
   "id": "a6ca61b7",
   "metadata": {},
   "outputs": [
    {
     "ename": "ModuleNotFoundError",
     "evalue": "No module named 'rcviz'",
     "output_type": "error",
     "traceback": [
      "\u001b[0;31m---------------------------------------------------------------------------\u001b[0m",
      "\u001b[0;31mModuleNotFoundError\u001b[0m                       Traceback (most recent call last)",
      "Cell \u001b[0;32mIn[14], line 1\u001b[0m\n\u001b[0;32m----> 1\u001b[0m \u001b[38;5;28;01mimport\u001b[39;00m \u001b[38;5;21;01mrcviz\u001b[39;00m\n",
      "\u001b[0;31mModuleNotFoundError\u001b[0m: No module named 'rcviz'"
     ]
    }
   ],
   "source": [
    "import rcviz"
   ]
  },
  {
   "cell_type": "code",
   "execution_count": null,
   "id": "19ce414f",
   "metadata": {},
   "outputs": [],
   "source": []
  }
 ],
 "metadata": {
  "kernelspec": {
   "display_name": "Python 3 (ipykernel)",
   "language": "python",
   "name": "python3"
  },
  "language_info": {
   "codemirror_mode": {
    "name": "ipython",
    "version": 3
   },
   "file_extension": ".py",
   "mimetype": "text/x-python",
   "name": "python",
   "nbconvert_exporter": "python",
   "pygments_lexer": "ipython3",
   "version": "3.12.3"
  }
 },
 "nbformat": 4,
 "nbformat_minor": 5
}
